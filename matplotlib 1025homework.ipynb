{
 "cells": [
  {
   "cell_type": "code",
   "execution_count": 1,
   "metadata": {
    "collapsed": true
   },
   "outputs": [],
   "source": [
    "% matplotlib inline\n",
    "import numpy as np\n",
    "K = 9100\n",
    "Interval = 500   # range 區間\n",
    "Premium_Call = 179\n",
    "Premium_Put = 185\n",
    "ST = np.arange ( K - Interval, K + Interval )  # Vectorization"
   ]
  },
  {
   "cell_type": "code",
   "execution_count": 2,
   "metadata": {
    "collapsed": true
   },
   "outputs": [],
   "source": [
    "#payoff\n",
    "Payoff_LongCall = np.maximum (ST - K, 0) - Premium_Call   # Long Call\n",
    "Payoff_ShortCall = - Payoff_LongCall                      # Short Call\n",
    "Payoff_LongPut = np.maximum (K - ST, 0) - Premium_Put     # Long Put\n",
    "Payoff_ShortPut = - Payoff_LongPut                        # Short Put"
   ]
  },
  {
   "cell_type": "code",
   "execution_count": 5,
   "metadata": {
    "collapsed": false
   },
   "outputs": [
    {
     "data": {
      "image/png": "[encoded data removed]",
      "text/plain": [
       "<matplotlib.figure.Figure at 0x152b4d8aba8>"
      ]
     },
     "metadata": {},
     "output_type": "display_data"
    }
   ],
   "source": [
    "import matplotlib.pyplot as plt\n",
    "plt.plot (ST,Payoff_LongCall)\n",
    "plt.plot (ST,Payoff_ShortCall)\n",
    "plt.axhline (0, color='black', ls='dashed')\n",
    "plt.axhline (K, color='black', ls='dashed')\n",
    "plt.axhline ( K + Premium_Call, color='black', ls='dashed' )\n",
    "plt.show()"
   ]
  },
  {
   "cell_type": "code",
   "execution_count": 6,
   "metadata": {
    "collapsed": false
   },
   "outputs": [
    {
     "data": {
      "image/png": "[encoded data removed]",
      "text/plain": [
       "<matplotlib.figure.Figure at 0x152b4dff3c8>"
      ]
     },
     "metadata": {},
     "output_type": "display_data"
    }
   ],
   "source": [
    "import matplotlib.pyplot as plt\n",
    "plt.plot (ST,Payoff_LongPut)\n",
    "plt.plot (ST,Payoff_ShortPut)\n",
    "plt.axhline (0, color='black', ls='dashed')\n",
    "plt.axhline (K, color='black', ls='dashed')\n",
    "plt.axhline ( K + Premium_Put, color='black', ls='dashed' )\n",
    "plt.show()"
   ]
  },
  {
   "cell_type": "code",
   "execution_count": 7,
   "metadata": {
    "collapsed": false
   },
   "outputs": [
    {
     "data": {
      "text/plain": [
       "[<matplotlib.lines.Line2D at 0x152b4f02860>]"
      ]
     },
     "execution_count": 7,
     "metadata": {},
     "output_type": "execute_result"
    },
    {
     "data": {
      "image/png": "[encoded data removed]",
      "text/plain": [
       "<matplotlib.figure.Figure at 0x152b4d8fd30>"
      ]
     },
     "metadata": {},
     "output_type": "display_data"
    }
   ],
   "source": [
    "import matplotlib.pyplot as plt\n",
    "plt.plot (ST,Payoff_LongCall)\n",
    "plt.plot (ST,Payoff_ShortCall)\n",
    "plt.plot (ST,Payoff_LongPut)\n",
    "plt.plot (ST,Payoff_ShortPut)"
   ]
  },
  {
   "cell_type": "code",
   "execution_count": 8,
   "metadata": {
    "collapsed": false
   },
   "outputs": [
    {
     "data": {
      "text/plain": [
       "\"\\nplt.axhline (0, color='black', ls='dashed')\\nplt.axhline (K, color='black', ls='dashed')\\nplt.axhline ( K + Premium_Call, color='black', ls='dashed' )\\nplt.show()\\n\""
      ]
     },
     "execution_count": 8,
     "metadata": {},
     "output_type": "execute_result"
    }
   ],
   "source": [
    "'''\n",
    "plt.axhline (0, color='black', ls='dashed')\n",
    "plt.axhline (K, color='black', ls='dashed')\n",
    "plt.axhline ( K + Premium_Call, color='black', ls='dashed' )\n",
    "plt.show()\n",
    "'''"
   ]
  },
  {
   "cell_type": "code",
   "execution_count": null,
   "metadata": {
    "collapsed": true
   },
   "outputs": [],
   "source": []
  }
 ],
 "metadata": {
  "kernelspec": {
   "display_name": "Python [Root]",
   "language": "python",
   "name": "Python [Root]"
  },
  "language_info": {
   "codemirror_mode": {
    "name": "ipython",
    "version": 3
   },
   "file_extension": ".py",
   "mimetype": "text/x-python",
   "name": "python",
   "nbconvert_exporter": "python",
   "pygments_lexer": "ipython3",
   "version": "3.5.2"
  }
 },
 "nbformat": 4,
 "nbformat_minor": 0
}
